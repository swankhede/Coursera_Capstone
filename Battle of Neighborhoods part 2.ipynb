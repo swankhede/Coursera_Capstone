{
 "cells": [
  {
   "cell_type": "markdown",
   "metadata": {},
   "source": [
    "# Importing libraries"
   ]
  },
  {
   "cell_type": "code",
   "execution_count": 159,
   "metadata": {},
   "outputs": [],
   "source": [
    "import pandas as pd\n",
    "import numpy as np\n",
    "import bs4 as bs\n",
    "import requests as req"
   ]
  },
  {
   "cell_type": "markdown",
   "metadata": {},
   "source": [
    "# Scrapping the Wikipedia page to create Dataframe"
   ]
  },
  {
   "cell_type": "code",
   "execution_count": 8,
   "metadata": {},
   "outputs": [
    {
     "data": {
      "text/plain": [
       "<Response [200]>"
      ]
     },
     "execution_count": 8,
     "metadata": {},
     "output_type": "execute_result"
    }
   ],
   "source": [
    "response = req.get(\"https://en.wikipedia.org/wiki/List_of_postal_codes_of_Canada:_M\")\n",
    "response"
   ]
  },
  {
   "cell_type": "code",
   "execution_count": 70,
   "metadata": {},
   "outputs": [
    {
     "data": {
      "text/plain": [
       "[    Postal Code           Borough  \\\n",
       " 0           M1A      Not assigned   \n",
       " 1           M2A      Not assigned   \n",
       " 2           M3A        North York   \n",
       " 3           M4A        North York   \n",
       " 4           M5A  Downtown Toronto   \n",
       " ..          ...               ...   \n",
       " 175         M5Z      Not assigned   \n",
       " 176         M6Z      Not assigned   \n",
       " 177         M7Z      Not assigned   \n",
       " 178         M8Z         Etobicoke   \n",
       " 179         M9Z      Not assigned   \n",
       " \n",
       "                                          Neighbourhood  \n",
       " 0                                         Not assigned  \n",
       " 1                                         Not assigned  \n",
       " 2                                            Parkwoods  \n",
       " 3                                     Victoria Village  \n",
       " 4                            Regent Park, Harbourfront  \n",
       " ..                                                 ...  \n",
       " 175                                       Not assigned  \n",
       " 176                                       Not assigned  \n",
       " 177                                       Not assigned  \n",
       " 178  Mimico NW, The Queensway West, South of Bloor,...  \n",
       " 179                                       Not assigned  \n",
       " \n",
       " [180 rows x 3 columns],\n",
       "                                                   0   \\\n",
       " 0                                                NaN   \n",
       " 1  NL NS PE NB QC ON MB SK AB BC NU/NT YT A B C E...   \n",
       " 2                                                 NL   \n",
       " 3                                                  A   \n",
       " \n",
       "                                                   1   \\\n",
       " 0                              Canadian postal codes   \n",
       " 1  NL NS PE NB QC ON MB SK AB BC NU/NT YT A B C E...   \n",
       " 2                                                 NS   \n",
       " 3                                                  B   \n",
       " \n",
       "                                                   2    3    4    5    6    7   \\\n",
       " 0                                                NaN  NaN  NaN  NaN  NaN  NaN   \n",
       " 1  NL NS PE NB QC ON MB SK AB BC NU/NT YT A B C E...  NaN  NaN  NaN  NaN  NaN   \n",
       " 2                                                 PE   NB   QC   QC   QC   ON   \n",
       " 3                                                  C    E    G    H    J    K   \n",
       " \n",
       "     8    9    10   11   12   13   14   15     16   17  \n",
       " 0  NaN  NaN  NaN  NaN  NaN  NaN  NaN  NaN    NaN  NaN  \n",
       " 1  NaN  NaN  NaN  NaN  NaN  NaN  NaN  NaN    NaN  NaN  \n",
       " 2   ON   ON   ON   ON   MB   SK   AB   BC  NU/NT   YT  \n",
       " 3    L    M    N    P    R    S    T    V      X    Y  ,\n",
       "    0   1   2   3   4   5   6   7   8   9   10  11  12  13  14  15     16  17\n",
       " 0  NL  NS  PE  NB  QC  QC  QC  ON  ON  ON  ON  ON  MB  SK  AB  BC  NU/NT  YT\n",
       " 1   A   B   C   E   G   H   J   K   L   M   N   P   R   S   T   V      X   Y]"
      ]
     },
     "execution_count": 70,
     "metadata": {},
     "output_type": "execute_result"
    }
   ],
   "source": [
    "data = pd.read_html(\"https://en.wikipedia.org/wiki/List_of_postal_codes_of_Canada:_M\")\n",
    "data"
   ]
  },
  {
   "cell_type": "markdown",
   "metadata": {},
   "source": [
    "# Converting list to Dataframe"
   ]
  },
  {
   "cell_type": "code",
   "execution_count": 72,
   "metadata": {},
   "outputs": [],
   "source": [
    "data = pd.DataFrame(data[0])\n",
    "data.reset_index(inplace = True)"
   ]
  },
  {
   "cell_type": "markdown",
   "metadata": {},
   "source": [
    "removing 'Not assigned' Borough"
   ]
  },
  {
   "cell_type": "code",
   "execution_count": 73,
   "metadata": {},
   "outputs": [
    {
     "data": {
      "text/html": [
       "<div>\n",
       "<style scoped>\n",
       "    .dataframe tbody tr th:only-of-type {\n",
       "        vertical-align: middle;\n",
       "    }\n",
       "\n",
       "    .dataframe tbody tr th {\n",
       "        vertical-align: top;\n",
       "    }\n",
       "\n",
       "    .dataframe thead th {\n",
       "        text-align: right;\n",
       "    }\n",
       "</style>\n",
       "<table border=\"1\" class=\"dataframe\">\n",
       "  <thead>\n",
       "    <tr style=\"text-align: right;\">\n",
       "      <th></th>\n",
       "      <th>index</th>\n",
       "      <th>Postal Code</th>\n",
       "      <th>Borough</th>\n",
       "      <th>Neighbourhood</th>\n",
       "    </tr>\n",
       "  </thead>\n",
       "  <tbody>\n",
       "    <tr>\n",
       "      <th>2</th>\n",
       "      <td>2</td>\n",
       "      <td>M3A</td>\n",
       "      <td>North York</td>\n",
       "      <td>Parkwoods</td>\n",
       "    </tr>\n",
       "    <tr>\n",
       "      <th>3</th>\n",
       "      <td>3</td>\n",
       "      <td>M4A</td>\n",
       "      <td>North York</td>\n",
       "      <td>Victoria Village</td>\n",
       "    </tr>\n",
       "    <tr>\n",
       "      <th>4</th>\n",
       "      <td>4</td>\n",
       "      <td>M5A</td>\n",
       "      <td>Downtown Toronto</td>\n",
       "      <td>Regent Park, Harbourfront</td>\n",
       "    </tr>\n",
       "    <tr>\n",
       "      <th>5</th>\n",
       "      <td>5</td>\n",
       "      <td>M6A</td>\n",
       "      <td>North York</td>\n",
       "      <td>Lawrence Manor, Lawrence Heights</td>\n",
       "    </tr>\n",
       "    <tr>\n",
       "      <th>6</th>\n",
       "      <td>6</td>\n",
       "      <td>M7A</td>\n",
       "      <td>Downtown Toronto</td>\n",
       "      <td>Queen's Park, Ontario Provincial Government</td>\n",
       "    </tr>\n",
       "    <tr>\n",
       "      <th>...</th>\n",
       "      <td>...</td>\n",
       "      <td>...</td>\n",
       "      <td>...</td>\n",
       "      <td>...</td>\n",
       "    </tr>\n",
       "    <tr>\n",
       "      <th>160</th>\n",
       "      <td>160</td>\n",
       "      <td>M8X</td>\n",
       "      <td>Etobicoke</td>\n",
       "      <td>The Kingsway, Montgomery Road, Old Mill North</td>\n",
       "    </tr>\n",
       "    <tr>\n",
       "      <th>165</th>\n",
       "      <td>165</td>\n",
       "      <td>M4Y</td>\n",
       "      <td>Downtown Toronto</td>\n",
       "      <td>Church and Wellesley</td>\n",
       "    </tr>\n",
       "    <tr>\n",
       "      <th>168</th>\n",
       "      <td>168</td>\n",
       "      <td>M7Y</td>\n",
       "      <td>East Toronto</td>\n",
       "      <td>Business reply mail Processing Centre, South C...</td>\n",
       "    </tr>\n",
       "    <tr>\n",
       "      <th>169</th>\n",
       "      <td>169</td>\n",
       "      <td>M8Y</td>\n",
       "      <td>Etobicoke</td>\n",
       "      <td>Old Mill South, King's Mill Park, Sunnylea, Hu...</td>\n",
       "    </tr>\n",
       "    <tr>\n",
       "      <th>178</th>\n",
       "      <td>178</td>\n",
       "      <td>M8Z</td>\n",
       "      <td>Etobicoke</td>\n",
       "      <td>Mimico NW, The Queensway West, South of Bloor,...</td>\n",
       "    </tr>\n",
       "  </tbody>\n",
       "</table>\n",
       "<p>103 rows × 4 columns</p>\n",
       "</div>"
      ],
      "text/plain": [
       "     index Postal Code           Borough  \\\n",
       "2        2         M3A        North York   \n",
       "3        3         M4A        North York   \n",
       "4        4         M5A  Downtown Toronto   \n",
       "5        5         M6A        North York   \n",
       "6        6         M7A  Downtown Toronto   \n",
       "..     ...         ...               ...   \n",
       "160    160         M8X         Etobicoke   \n",
       "165    165         M4Y  Downtown Toronto   \n",
       "168    168         M7Y      East Toronto   \n",
       "169    169         M8Y         Etobicoke   \n",
       "178    178         M8Z         Etobicoke   \n",
       "\n",
       "                                         Neighbourhood  \n",
       "2                                            Parkwoods  \n",
       "3                                     Victoria Village  \n",
       "4                            Regent Park, Harbourfront  \n",
       "5                     Lawrence Manor, Lawrence Heights  \n",
       "6          Queen's Park, Ontario Provincial Government  \n",
       "..                                                 ...  \n",
       "160      The Kingsway, Montgomery Road, Old Mill North  \n",
       "165                               Church and Wellesley  \n",
       "168  Business reply mail Processing Centre, South C...  \n",
       "169  Old Mill South, King's Mill Park, Sunnylea, Hu...  \n",
       "178  Mimico NW, The Queensway West, South of Bloor,...  \n",
       "\n",
       "[103 rows x 4 columns]"
      ]
     },
     "execution_count": 73,
     "metadata": {},
     "output_type": "execute_result"
    }
   ],
   "source": [
    "data = data[data['Borough']!='Not assigned']\n",
    "data"
   ]
  },
  {
   "cell_type": "code",
   "execution_count": 160,
   "metadata": {},
   "outputs": [
    {
     "data": {
      "text/html": [
       "<div>\n",
       "<style scoped>\n",
       "    .dataframe tbody tr th:only-of-type {\n",
       "        vertical-align: middle;\n",
       "    }\n",
       "\n",
       "    .dataframe tbody tr th {\n",
       "        vertical-align: top;\n",
       "    }\n",
       "\n",
       "    .dataframe thead th {\n",
       "        text-align: right;\n",
       "    }\n",
       "</style>\n",
       "<table border=\"1\" class=\"dataframe\">\n",
       "  <thead>\n",
       "    <tr style=\"text-align: right;\">\n",
       "      <th></th>\n",
       "      <th>index</th>\n",
       "      <th>Postal Code</th>\n",
       "      <th>Borough</th>\n",
       "      <th>Neighbourhood</th>\n",
       "      <th>Latitude</th>\n",
       "      <th>Longitude</th>\n",
       "    </tr>\n",
       "  </thead>\n",
       "  <tbody>\n",
       "  </tbody>\n",
       "</table>\n",
       "</div>"
      ],
      "text/plain": [
       "Empty DataFrame\n",
       "Columns: [index, Postal Code, Borough, Neighbourhood, Latitude, Longitude]\n",
       "Index: []"
      ]
     },
     "execution_count": 160,
     "metadata": {},
     "output_type": "execute_result"
    }
   ],
   "source": [
    " data[data['Neighbourhood']=='Not assigned']"
   ]
  },
  {
   "cell_type": "code",
   "execution_count": 162,
   "metadata": {},
   "outputs": [
    {
     "data": {
      "text/plain": [
       "(103, 6)"
      ]
     },
     "execution_count": 162,
     "metadata": {},
     "output_type": "execute_result"
    }
   ],
   "source": [
    " data.shape"
   ]
  },
  {
   "cell_type": "markdown",
   "metadata": {},
   "source": [
    "# Reading Geospatial Data"
   ]
  },
  {
   "cell_type": "code",
   "execution_count": 163,
   "metadata": {},
   "outputs": [],
   "source": [
    "lat_long_df = pd.DataFrame(pd.read_csv(\"http://cocl.us/Geospatial_data\")) "
   ]
  },
  {
   "cell_type": "code",
   "execution_count": 165,
   "metadata": {},
   "outputs": [
    {
     "data": {
      "text/html": [
       "<div>\n",
       "<style scoped>\n",
       "    .dataframe tbody tr th:only-of-type {\n",
       "        vertical-align: middle;\n",
       "    }\n",
       "\n",
       "    .dataframe tbody tr th {\n",
       "        vertical-align: top;\n",
       "    }\n",
       "\n",
       "    .dataframe thead th {\n",
       "        text-align: right;\n",
       "    }\n",
       "</style>\n",
       "<table border=\"1\" class=\"dataframe\">\n",
       "  <thead>\n",
       "    <tr style=\"text-align: right;\">\n",
       "      <th></th>\n",
       "      <th>Postal Code</th>\n",
       "      <th>Latitude</th>\n",
       "      <th>Longitude</th>\n",
       "    </tr>\n",
       "  </thead>\n",
       "  <tbody>\n",
       "    <tr>\n",
       "      <th>0</th>\n",
       "      <td>M1B</td>\n",
       "      <td>43.806686</td>\n",
       "      <td>-79.194353</td>\n",
       "    </tr>\n",
       "    <tr>\n",
       "      <th>1</th>\n",
       "      <td>M1C</td>\n",
       "      <td>43.784535</td>\n",
       "      <td>-79.160497</td>\n",
       "    </tr>\n",
       "    <tr>\n",
       "      <th>2</th>\n",
       "      <td>M1E</td>\n",
       "      <td>43.763573</td>\n",
       "      <td>-79.188711</td>\n",
       "    </tr>\n",
       "    <tr>\n",
       "      <th>3</th>\n",
       "      <td>M1G</td>\n",
       "      <td>43.770992</td>\n",
       "      <td>-79.216917</td>\n",
       "    </tr>\n",
       "    <tr>\n",
       "      <th>4</th>\n",
       "      <td>M1H</td>\n",
       "      <td>43.773136</td>\n",
       "      <td>-79.239476</td>\n",
       "    </tr>\n",
       "    <tr>\n",
       "      <th>...</th>\n",
       "      <td>...</td>\n",
       "      <td>...</td>\n",
       "      <td>...</td>\n",
       "    </tr>\n",
       "    <tr>\n",
       "      <th>98</th>\n",
       "      <td>M9N</td>\n",
       "      <td>43.706876</td>\n",
       "      <td>-79.518188</td>\n",
       "    </tr>\n",
       "    <tr>\n",
       "      <th>99</th>\n",
       "      <td>M9P</td>\n",
       "      <td>43.696319</td>\n",
       "      <td>-79.532242</td>\n",
       "    </tr>\n",
       "    <tr>\n",
       "      <th>100</th>\n",
       "      <td>M9R</td>\n",
       "      <td>43.688905</td>\n",
       "      <td>-79.554724</td>\n",
       "    </tr>\n",
       "    <tr>\n",
       "      <th>101</th>\n",
       "      <td>M9V</td>\n",
       "      <td>43.739416</td>\n",
       "      <td>-79.588437</td>\n",
       "    </tr>\n",
       "    <tr>\n",
       "      <th>102</th>\n",
       "      <td>M9W</td>\n",
       "      <td>43.706748</td>\n",
       "      <td>-79.594054</td>\n",
       "    </tr>\n",
       "  </tbody>\n",
       "</table>\n",
       "<p>103 rows × 3 columns</p>\n",
       "</div>"
      ],
      "text/plain": [
       "    Postal Code   Latitude  Longitude\n",
       "0           M1B  43.806686 -79.194353\n",
       "1           M1C  43.784535 -79.160497\n",
       "2           M1E  43.763573 -79.188711\n",
       "3           M1G  43.770992 -79.216917\n",
       "4           M1H  43.773136 -79.239476\n",
       "..          ...        ...        ...\n",
       "98          M9N  43.706876 -79.518188\n",
       "99          M9P  43.696319 -79.532242\n",
       "100         M9R  43.688905 -79.554724\n",
       "101         M9V  43.739416 -79.588437\n",
       "102         M9W  43.706748 -79.594054\n",
       "\n",
       "[103 rows x 3 columns]"
      ]
     },
     "execution_count": 165,
     "metadata": {},
     "output_type": "execute_result"
    }
   ],
   "source": [
    "lat_long_df"
   ]
  },
  {
   "cell_type": "markdown",
   "metadata": {},
   "source": [
    "# Combining two dataframes"
   ]
  },
  {
   "cell_type": "code",
   "execution_count": 78,
   "metadata": {},
   "outputs": [],
   "source": [
    "data = data.merge(lat_long_df)\n",
    "data.drop(['index'],axis=1,inplace=True)"
   ]
  },
  {
   "cell_type": "markdown",
   "metadata": {},
   "source": [
    "# Making index column"
   ]
  },
  {
   "cell_type": "code",
   "execution_count": 81,
   "metadata": {},
   "outputs": [
    {
     "data": {
      "text/html": [
       "<div>\n",
       "<style scoped>\n",
       "    .dataframe tbody tr th:only-of-type {\n",
       "        vertical-align: middle;\n",
       "    }\n",
       "\n",
       "    .dataframe tbody tr th {\n",
       "        vertical-align: top;\n",
       "    }\n",
       "\n",
       "    .dataframe thead th {\n",
       "        text-align: right;\n",
       "    }\n",
       "</style>\n",
       "<table border=\"1\" class=\"dataframe\">\n",
       "  <thead>\n",
       "    <tr style=\"text-align: right;\">\n",
       "      <th></th>\n",
       "      <th>index</th>\n",
       "      <th>Postal Code</th>\n",
       "      <th>Borough</th>\n",
       "      <th>Neighbourhood</th>\n",
       "      <th>Latitude</th>\n",
       "      <th>Longitude</th>\n",
       "    </tr>\n",
       "  </thead>\n",
       "  <tbody>\n",
       "    <tr>\n",
       "      <th>0</th>\n",
       "      <td>0</td>\n",
       "      <td>M3A</td>\n",
       "      <td>North York</td>\n",
       "      <td>Parkwoods</td>\n",
       "      <td>43.753259</td>\n",
       "      <td>-79.329656</td>\n",
       "    </tr>\n",
       "    <tr>\n",
       "      <th>1</th>\n",
       "      <td>1</td>\n",
       "      <td>M4A</td>\n",
       "      <td>North York</td>\n",
       "      <td>Victoria Village</td>\n",
       "      <td>43.725882</td>\n",
       "      <td>-79.315572</td>\n",
       "    </tr>\n",
       "    <tr>\n",
       "      <th>2</th>\n",
       "      <td>2</td>\n",
       "      <td>M5A</td>\n",
       "      <td>Downtown Toronto</td>\n",
       "      <td>Regent Park, Harbourfront</td>\n",
       "      <td>43.654260</td>\n",
       "      <td>-79.360636</td>\n",
       "    </tr>\n",
       "    <tr>\n",
       "      <th>3</th>\n",
       "      <td>3</td>\n",
       "      <td>M6A</td>\n",
       "      <td>North York</td>\n",
       "      <td>Lawrence Manor, Lawrence Heights</td>\n",
       "      <td>43.718518</td>\n",
       "      <td>-79.464763</td>\n",
       "    </tr>\n",
       "    <tr>\n",
       "      <th>4</th>\n",
       "      <td>4</td>\n",
       "      <td>M7A</td>\n",
       "      <td>Downtown Toronto</td>\n",
       "      <td>Queen's Park, Ontario Provincial Government</td>\n",
       "      <td>43.662301</td>\n",
       "      <td>-79.389494</td>\n",
       "    </tr>\n",
       "    <tr>\n",
       "      <th>...</th>\n",
       "      <td>...</td>\n",
       "      <td>...</td>\n",
       "      <td>...</td>\n",
       "      <td>...</td>\n",
       "      <td>...</td>\n",
       "      <td>...</td>\n",
       "    </tr>\n",
       "    <tr>\n",
       "      <th>98</th>\n",
       "      <td>98</td>\n",
       "      <td>M8X</td>\n",
       "      <td>Etobicoke</td>\n",
       "      <td>The Kingsway, Montgomery Road, Old Mill North</td>\n",
       "      <td>43.653654</td>\n",
       "      <td>-79.506944</td>\n",
       "    </tr>\n",
       "    <tr>\n",
       "      <th>99</th>\n",
       "      <td>99</td>\n",
       "      <td>M4Y</td>\n",
       "      <td>Downtown Toronto</td>\n",
       "      <td>Church and Wellesley</td>\n",
       "      <td>43.665860</td>\n",
       "      <td>-79.383160</td>\n",
       "    </tr>\n",
       "    <tr>\n",
       "      <th>100</th>\n",
       "      <td>100</td>\n",
       "      <td>M7Y</td>\n",
       "      <td>East Toronto</td>\n",
       "      <td>Business reply mail Processing Centre, South C...</td>\n",
       "      <td>43.662744</td>\n",
       "      <td>-79.321558</td>\n",
       "    </tr>\n",
       "    <tr>\n",
       "      <th>101</th>\n",
       "      <td>101</td>\n",
       "      <td>M8Y</td>\n",
       "      <td>Etobicoke</td>\n",
       "      <td>Old Mill South, King's Mill Park, Sunnylea, Hu...</td>\n",
       "      <td>43.636258</td>\n",
       "      <td>-79.498509</td>\n",
       "    </tr>\n",
       "    <tr>\n",
       "      <th>102</th>\n",
       "      <td>102</td>\n",
       "      <td>M8Z</td>\n",
       "      <td>Etobicoke</td>\n",
       "      <td>Mimico NW, The Queensway West, South of Bloor,...</td>\n",
       "      <td>43.628841</td>\n",
       "      <td>-79.520999</td>\n",
       "    </tr>\n",
       "  </tbody>\n",
       "</table>\n",
       "<p>103 rows × 6 columns</p>\n",
       "</div>"
      ],
      "text/plain": [
       "     index Postal Code           Borough  \\\n",
       "0        0         M3A        North York   \n",
       "1        1         M4A        North York   \n",
       "2        2         M5A  Downtown Toronto   \n",
       "3        3         M6A        North York   \n",
       "4        4         M7A  Downtown Toronto   \n",
       "..     ...         ...               ...   \n",
       "98      98         M8X         Etobicoke   \n",
       "99      99         M4Y  Downtown Toronto   \n",
       "100    100         M7Y      East Toronto   \n",
       "101    101         M8Y         Etobicoke   \n",
       "102    102         M8Z         Etobicoke   \n",
       "\n",
       "                                         Neighbourhood   Latitude  Longitude  \n",
       "0                                            Parkwoods  43.753259 -79.329656  \n",
       "1                                     Victoria Village  43.725882 -79.315572  \n",
       "2                            Regent Park, Harbourfront  43.654260 -79.360636  \n",
       "3                     Lawrence Manor, Lawrence Heights  43.718518 -79.464763  \n",
       "4          Queen's Park, Ontario Provincial Government  43.662301 -79.389494  \n",
       "..                                                 ...        ...        ...  \n",
       "98       The Kingsway, Montgomery Road, Old Mill North  43.653654 -79.506944  \n",
       "99                                Church and Wellesley  43.665860 -79.383160  \n",
       "100  Business reply mail Processing Centre, South C...  43.662744 -79.321558  \n",
       "101  Old Mill South, King's Mill Park, Sunnylea, Hu...  43.636258 -79.498509  \n",
       "102  Mimico NW, The Queensway West, South of Bloor,...  43.628841 -79.520999  \n",
       "\n",
       "[103 rows x 6 columns]"
      ]
     },
     "execution_count": 81,
     "metadata": {},
     "output_type": "execute_result"
    }
   ],
   "source": [
    "data.reset_index(inplace=True)\n",
    "data"
   ]
  },
  {
   "cell_type": "markdown",
   "metadata": {},
   "source": [
    "# Exploring Neighbourhood"
   ]
  },
  {
   "cell_type": "markdown",
   "metadata": {},
   "source": [
    "Plotting data Points on Map"
   ]
  },
  {
   "cell_type": "code",
   "execution_count": 85,
   "metadata": {},
   "outputs": [],
   "source": [
    "import folium"
   ]
  },
  {
   "cell_type": "code",
   "execution_count": 168,
   "metadata": {},
   "outputs": [
    {
     "data": {
      "text/html": [
       "<div style=\"width:100%;\"><div style=\"position:relative;width:100%;height:0;padding-bottom:60%;\"><span style=\"color:#565656\">Make this Notebook Trusted to load map: File -> Trust Notebook</span><iframe src=\"about:blank\" style=\"position:absolute;width:100%;height:100%;left:0;top:0;border:none !important;\" data-html=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 onload=\"this.contentDocument.open();this.contentDocument.write(atob(this.getAttribute('data-html')));this.contentDocument.close();\" allowfullscreen webkitallowfullscreen mozallowfullscreen></iframe></div></div>"
      ],
      "text/plain": [
       "<folium.folium.Map at 0x7fe0d5905910>"
      ]
     },
     "execution_count": 168,
     "metadata": {},
     "output_type": "execute_result"
    }
   ],
   "source": [
    "venues_map = folium.Map([43.628841,-79.520999]) # generate map centred around Ecco\n",
    "for lat, lng,label in zip(data.Latitude, data.Longitude,data.Borough):\n",
    "    folium.CircleMarker(\n",
    "        [lat, lng],\n",
    "        radius=5,\n",
    "        popup=label,\n",
    "        fill=True,\n",
    "        color='blue',\n",
    "        fill_color='blue',\n",
    "        fill_opacity=0.6\n",
    "        ).add_to(venues_map)\n",
    "\n",
    "# display map\n",
    "venues_map"
   ]
  },
  {
   "cell_type": "code",
   "execution_count": null,
   "metadata": {},
   "outputs": [],
   "source": []
  },
  {
   "cell_type": "code",
   "execution_count": null,
   "metadata": {},
   "outputs": [],
   "source": []
  },
  {
   "cell_type": "code",
   "execution_count": null,
   "metadata": {},
   "outputs": [],
   "source": []
  },
  {
   "cell_type": "code",
   "execution_count": null,
   "metadata": {},
   "outputs": [],
   "source": []
  }
 ],
 "metadata": {
  "kernelspec": {
   "display_name": "Python 3",
   "language": "python",
   "name": "python3"
  },
  "language_info": {
   "codemirror_mode": {
    "name": "ipython",
    "version": 3
   },
   "file_extension": ".py",
   "mimetype": "text/x-python",
   "name": "python",
   "nbconvert_exporter": "python",
   "pygments_lexer": "ipython3",
   "version": "3.7.6"
  }
 },
 "nbformat": 4,
 "nbformat_minor": 4
}
